{
  "nbformat": 4,
  "nbformat_minor": 0,
  "metadata": {
    "colab": {
      "name": "Copy of Deep Daze",
      "provenance": [],
      "collapsed_sections": [
        "EZggP1EDqyvS",
        "u4JNjuemq4eB",
        "xpQMxikJp9u-"
      ],
      "include_colab_link": true
    },
    "kernelspec": {
      "name": "python3",
      "display_name": "Python 3"
    },
    "accelerator": "GPU"
  },
  "cells": [
    {
      "cell_type": "markdown",
      "metadata": {
        "id": "view-in-github",
        "colab_type": "text"
      },
      "source": [
        "<a href=\"https://colab.research.google.com/github/hihunjin/my_deep_daze/blob/main/Copy_of_Deep_Daze.ipynb\" target=\"_parent\"><img src=\"https://colab.research.google.com/assets/colab-badge.svg\" alt=\"Open In Colab\"/></a>"
      ]
    },
    {
      "cell_type": "markdown",
      "metadata": {
        "id": "EZggP1EDqyvS"
      },
      "source": [
        "# Preparing"
      ]
    },
    {
      "cell_type": "code",
      "metadata": {
        "colab": {
          "base_uri": "https://localhost:8080/"
        },
        "id": "YpRu6LTR2LbD",
        "outputId": "3dc6fca6-52ee-457c-a051-80f1c8544d64"
      },
      "source": [
        "!pip install deep-daze --upgrade"
      ],
      "execution_count": null,
      "outputs": [
        {
          "output_type": "stream",
          "name": "stdout",
          "text": [
            "Collecting deep-daze\n",
            "  Downloading deep_daze-0.10.2-py3-none-any.whl (1.4 MB)\n",
            "\u001b[?25l\r\u001b[K     |▎                               | 10 kB 25.7 MB/s eta 0:00:01\r\u001b[K     |▌                               | 20 kB 20.6 MB/s eta 0:00:01\r\u001b[K     |▊                               | 30 kB 15.4 MB/s eta 0:00:01\r\u001b[K     |█                               | 40 kB 14.2 MB/s eta 0:00:01\r\u001b[K     |█▏                              | 51 kB 5.3 MB/s eta 0:00:01\r\u001b[K     |█▍                              | 61 kB 5.7 MB/s eta 0:00:01\r\u001b[K     |█▋                              | 71 kB 5.2 MB/s eta 0:00:01\r\u001b[K     |██                              | 81 kB 5.8 MB/s eta 0:00:01\r\u001b[K     |██▏                             | 92 kB 5.9 MB/s eta 0:00:01\r\u001b[K     |██▍                             | 102 kB 5.1 MB/s eta 0:00:01\r\u001b[K     |██▋                             | 112 kB 5.1 MB/s eta 0:00:01\r\u001b[K     |██▉                             | 122 kB 5.1 MB/s eta 0:00:01\r\u001b[K     |███                             | 133 kB 5.1 MB/s eta 0:00:01\r\u001b[K     |███▎                            | 143 kB 5.1 MB/s eta 0:00:01\r\u001b[K     |███▋                            | 153 kB 5.1 MB/s eta 0:00:01\r\u001b[K     |███▉                            | 163 kB 5.1 MB/s eta 0:00:01\r\u001b[K     |████                            | 174 kB 5.1 MB/s eta 0:00:01\r\u001b[K     |████▎                           | 184 kB 5.1 MB/s eta 0:00:01\r\u001b[K     |████▌                           | 194 kB 5.1 MB/s eta 0:00:01\r\u001b[K     |████▊                           | 204 kB 5.1 MB/s eta 0:00:01\r\u001b[K     |█████                           | 215 kB 5.1 MB/s eta 0:00:01\r\u001b[K     |█████▎                          | 225 kB 5.1 MB/s eta 0:00:01\r\u001b[K     |█████▌                          | 235 kB 5.1 MB/s eta 0:00:01\r\u001b[K     |█████▊                          | 245 kB 5.1 MB/s eta 0:00:01\r\u001b[K     |██████                          | 256 kB 5.1 MB/s eta 0:00:01\r\u001b[K     |██████▏                         | 266 kB 5.1 MB/s eta 0:00:01\r\u001b[K     |██████▍                         | 276 kB 5.1 MB/s eta 0:00:01\r\u001b[K     |██████▋                         | 286 kB 5.1 MB/s eta 0:00:01\r\u001b[K     |███████                         | 296 kB 5.1 MB/s eta 0:00:01\r\u001b[K     |███████▏                        | 307 kB 5.1 MB/s eta 0:00:01\r\u001b[K     |███████▍                        | 317 kB 5.1 MB/s eta 0:00:01\r\u001b[K     |███████▋                        | 327 kB 5.1 MB/s eta 0:00:01\r\u001b[K     |███████▉                        | 337 kB 5.1 MB/s eta 0:00:01\r\u001b[K     |████████                        | 348 kB 5.1 MB/s eta 0:00:01\r\u001b[K     |████████▎                       | 358 kB 5.1 MB/s eta 0:00:01\r\u001b[K     |████████▋                       | 368 kB 5.1 MB/s eta 0:00:01\r\u001b[K     |████████▉                       | 378 kB 5.1 MB/s eta 0:00:01\r\u001b[K     |█████████                       | 389 kB 5.1 MB/s eta 0:00:01\r\u001b[K     |█████████▎                      | 399 kB 5.1 MB/s eta 0:00:01\r\u001b[K     |█████████▌                      | 409 kB 5.1 MB/s eta 0:00:01\r\u001b[K     |█████████▊                      | 419 kB 5.1 MB/s eta 0:00:01\r\u001b[K     |██████████                      | 430 kB 5.1 MB/s eta 0:00:01\r\u001b[K     |██████████▎                     | 440 kB 5.1 MB/s eta 0:00:01\r\u001b[K     |██████████▌                     | 450 kB 5.1 MB/s eta 0:00:01\r\u001b[K     |██████████▊                     | 460 kB 5.1 MB/s eta 0:00:01\r\u001b[K     |███████████                     | 471 kB 5.1 MB/s eta 0:00:01\r\u001b[K     |███████████▏                    | 481 kB 5.1 MB/s eta 0:00:01\r\u001b[K     |███████████▍                    | 491 kB 5.1 MB/s eta 0:00:01\r\u001b[K     |███████████▋                    | 501 kB 5.1 MB/s eta 0:00:01\r\u001b[K     |████████████                    | 512 kB 5.1 MB/s eta 0:00:01\r\u001b[K     |████████████▏                   | 522 kB 5.1 MB/s eta 0:00:01\r\u001b[K     |████████████▍                   | 532 kB 5.1 MB/s eta 0:00:01\r\u001b[K     |████████████▋                   | 542 kB 5.1 MB/s eta 0:00:01\r\u001b[K     |████████████▉                   | 552 kB 5.1 MB/s eta 0:00:01\r\u001b[K     |█████████████                   | 563 kB 5.1 MB/s eta 0:00:01\r\u001b[K     |█████████████▎                  | 573 kB 5.1 MB/s eta 0:00:01\r\u001b[K     |█████████████▋                  | 583 kB 5.1 MB/s eta 0:00:01\r\u001b[K     |█████████████▉                  | 593 kB 5.1 MB/s eta 0:00:01\r\u001b[K     |██████████████                  | 604 kB 5.1 MB/s eta 0:00:01\r\u001b[K     |██████████████▎                 | 614 kB 5.1 MB/s eta 0:00:01\r\u001b[K     |██████████████▌                 | 624 kB 5.1 MB/s eta 0:00:01\r\u001b[K     |██████████████▊                 | 634 kB 5.1 MB/s eta 0:00:01\r\u001b[K     |███████████████                 | 645 kB 5.1 MB/s eta 0:00:01\r\u001b[K     |███████████████▎                | 655 kB 5.1 MB/s eta 0:00:01\r\u001b[K     |███████████████▌                | 665 kB 5.1 MB/s eta 0:00:01\r\u001b[K     |███████████████▊                | 675 kB 5.1 MB/s eta 0:00:01\r\u001b[K     |████████████████                | 686 kB 5.1 MB/s eta 0:00:01\r\u001b[K     |████████████████▏               | 696 kB 5.1 MB/s eta 0:00:01\r\u001b[K     |████████████████▍               | 706 kB 5.1 MB/s eta 0:00:01\r\u001b[K     |████████████████▋               | 716 kB 5.1 MB/s eta 0:00:01\r\u001b[K     |█████████████████               | 727 kB 5.1 MB/s eta 0:00:01\r\u001b[K     |█████████████████▏              | 737 kB 5.1 MB/s eta 0:00:01\r\u001b[K     |█████████████████▍              | 747 kB 5.1 MB/s eta 0:00:01\r\u001b[K     |█████████████████▋              | 757 kB 5.1 MB/s eta 0:00:01\r\u001b[K     |█████████████████▉              | 768 kB 5.1 MB/s eta 0:00:01\r\u001b[K     |██████████████████              | 778 kB 5.1 MB/s eta 0:00:01\r\u001b[K     |██████████████████▎             | 788 kB 5.1 MB/s eta 0:00:01\r\u001b[K     |██████████████████▋             | 798 kB 5.1 MB/s eta 0:00:01\r\u001b[K     |██████████████████▉             | 808 kB 5.1 MB/s eta 0:00:01\r\u001b[K     |███████████████████             | 819 kB 5.1 MB/s eta 0:00:01\r\u001b[K     |███████████████████▎            | 829 kB 5.1 MB/s eta 0:00:01\r\u001b[K     |███████████████████▌            | 839 kB 5.1 MB/s eta 0:00:01\r\u001b[K     |███████████████████▊            | 849 kB 5.1 MB/s eta 0:00:01\r\u001b[K     |████████████████████            | 860 kB 5.1 MB/s eta 0:00:01\r\u001b[K     |████████████████████▎           | 870 kB 5.1 MB/s eta 0:00:01\r\u001b[K     |████████████████████▌           | 880 kB 5.1 MB/s eta 0:00:01\r\u001b[K     |████████████████████▊           | 890 kB 5.1 MB/s eta 0:00:01\r\u001b[K     |█████████████████████           | 901 kB 5.1 MB/s eta 0:00:01\r\u001b[K     |█████████████████████▏          | 911 kB 5.1 MB/s eta 0:00:01\r\u001b[K     |█████████████████████▍          | 921 kB 5.1 MB/s eta 0:00:01\r\u001b[K     |█████████████████████▋          | 931 kB 5.1 MB/s eta 0:00:01\r\u001b[K     |██████████████████████          | 942 kB 5.1 MB/s eta 0:00:01\r\u001b[K     |██████████████████████▏         | 952 kB 5.1 MB/s eta 0:00:01\r\u001b[K     |██████████████████████▍         | 962 kB 5.1 MB/s eta 0:00:01\r\u001b[K     |██████████████████████▋         | 972 kB 5.1 MB/s eta 0:00:01\r\u001b[K     |██████████████████████▉         | 983 kB 5.1 MB/s eta 0:00:01\r\u001b[K     |███████████████████████         | 993 kB 5.1 MB/s eta 0:00:01\r\u001b[K     |███████████████████████▎        | 1.0 MB 5.1 MB/s eta 0:00:01\r\u001b[K     |███████████████████████▋        | 1.0 MB 5.1 MB/s eta 0:00:01\r\u001b[K     |███████████████████████▉        | 1.0 MB 5.1 MB/s eta 0:00:01\r\u001b[K     |████████████████████████        | 1.0 MB 5.1 MB/s eta 0:00:01\r\u001b[K     |████████████████████████▎       | 1.0 MB 5.1 MB/s eta 0:00:01\r\u001b[K     |████████████████████████▌       | 1.1 MB 5.1 MB/s eta 0:00:01\r\u001b[K     |████████████████████████▊       | 1.1 MB 5.1 MB/s eta 0:00:01\r\u001b[K     |█████████████████████████       | 1.1 MB 5.1 MB/s eta 0:00:01\r\u001b[K     |█████████████████████████▏      | 1.1 MB 5.1 MB/s eta 0:00:01\r\u001b[K     |█████████████████████████▌      | 1.1 MB 5.1 MB/s eta 0:00:01\r\u001b[K     |█████████████████████████▊      | 1.1 MB 5.1 MB/s eta 0:00:01\r\u001b[K     |██████████████████████████      | 1.1 MB 5.1 MB/s eta 0:00:01\r\u001b[K     |██████████████████████████▏     | 1.1 MB 5.1 MB/s eta 0:00:01\r\u001b[K     |██████████████████████████▍     | 1.1 MB 5.1 MB/s eta 0:00:01\r\u001b[K     |██████████████████████████▋     | 1.1 MB 5.1 MB/s eta 0:00:01\r\u001b[K     |██████████████████████████▉     | 1.2 MB 5.1 MB/s eta 0:00:01\r\u001b[K     |███████████████████████████▏    | 1.2 MB 5.1 MB/s eta 0:00:01\r\u001b[K     |███████████████████████████▍    | 1.2 MB 5.1 MB/s eta 0:00:01\r\u001b[K     |███████████████████████████▋    | 1.2 MB 5.1 MB/s eta 0:00:01\r\u001b[K     |███████████████████████████▉    | 1.2 MB 5.1 MB/s eta 0:00:01\r\u001b[K     |████████████████████████████    | 1.2 MB 5.1 MB/s eta 0:00:01\r\u001b[K     |████████████████████████████▎   | 1.2 MB 5.1 MB/s eta 0:00:01\r\u001b[K     |████████████████████████████▌   | 1.2 MB 5.1 MB/s eta 0:00:01\r\u001b[K     |████████████████████████████▉   | 1.2 MB 5.1 MB/s eta 0:00:01\r\u001b[K     |█████████████████████████████   | 1.2 MB 5.1 MB/s eta 0:00:01\r\u001b[K     |█████████████████████████████▎  | 1.3 MB 5.1 MB/s eta 0:00:01\r\u001b[K     |█████████████████████████████▌  | 1.3 MB 5.1 MB/s eta 0:00:01\r\u001b[K     |█████████████████████████████▊  | 1.3 MB 5.1 MB/s eta 0:00:01\r\u001b[K     |██████████████████████████████  | 1.3 MB 5.1 MB/s eta 0:00:01\r\u001b[K     |██████████████████████████████▏ | 1.3 MB 5.1 MB/s eta 0:00:01\r\u001b[K     |██████████████████████████████▌ | 1.3 MB 5.1 MB/s eta 0:00:01\r\u001b[K     |██████████████████████████████▊ | 1.3 MB 5.1 MB/s eta 0:00:01\r\u001b[K     |███████████████████████████████ | 1.3 MB 5.1 MB/s eta 0:00:01\r\u001b[K     |███████████████████████████████▏| 1.3 MB 5.1 MB/s eta 0:00:01\r\u001b[K     |███████████████████████████████▍| 1.4 MB 5.1 MB/s eta 0:00:01\r\u001b[K     |███████████████████████████████▋| 1.4 MB 5.1 MB/s eta 0:00:01\r\u001b[K     |███████████████████████████████▉| 1.4 MB 5.1 MB/s eta 0:00:01\r\u001b[K     |████████████████████████████████| 1.4 MB 5.1 MB/s \n",
            "\u001b[?25hCollecting fire\n",
            "  Downloading fire-0.4.0.tar.gz (87 kB)\n",
            "\u001b[K     |████████████████████████████████| 87 kB 5.6 MB/s \n",
            "\u001b[?25hCollecting imageio>=2.9.0\n",
            "  Downloading imageio-2.9.0-py3-none-any.whl (3.3 MB)\n",
            "\u001b[K     |████████████████████████████████| 3.3 MB 31.3 MB/s \n",
            "\u001b[?25hRequirement already satisfied: regex in /usr/local/lib/python3.7/dist-packages (from deep-daze) (2019.12.20)\n",
            "Collecting torch-optimizer\n",
            "  Downloading torch_optimizer-0.1.0-py3-none-any.whl (72 kB)\n",
            "\u001b[K     |████████████████████████████████| 72 kB 939 kB/s \n",
            "\u001b[?25hCollecting einops>=0.3\n",
            "  Downloading einops-0.3.2-py3-none-any.whl (25 kB)\n",
            "Requirement already satisfied: torch>=1.7.1 in /usr/local/lib/python3.7/dist-packages (from deep-daze) (1.9.0+cu102)\n",
            "Requirement already satisfied: torchvision>=0.8.2 in /usr/local/lib/python3.7/dist-packages (from deep-daze) (0.10.0+cu102)\n",
            "Collecting ftfy\n",
            "  Downloading ftfy-6.0.3.tar.gz (64 kB)\n",
            "\u001b[K     |████████████████████████████████| 64 kB 2.6 MB/s \n",
            "\u001b[?25hCollecting siren-pytorch>=0.0.8\n",
            "  Downloading siren_pytorch-0.1.5-py3-none-any.whl (3.9 kB)\n",
            "Requirement already satisfied: tqdm in /usr/local/lib/python3.7/dist-packages (from deep-daze) (4.62.0)\n",
            "Requirement already satisfied: numpy in /usr/local/lib/python3.7/dist-packages (from imageio>=2.9.0->deep-daze) (1.19.5)\n",
            "Requirement already satisfied: pillow in /usr/local/lib/python3.7/dist-packages (from imageio>=2.9.0->deep-daze) (7.1.2)\n",
            "Requirement already satisfied: typing-extensions in /usr/local/lib/python3.7/dist-packages (from torch>=1.7.1->deep-daze) (3.7.4.3)\n",
            "Requirement already satisfied: six in /usr/local/lib/python3.7/dist-packages (from fire->deep-daze) (1.15.0)\n",
            "Requirement already satisfied: termcolor in /usr/local/lib/python3.7/dist-packages (from fire->deep-daze) (1.1.0)\n",
            "Requirement already satisfied: wcwidth in /usr/local/lib/python3.7/dist-packages (from ftfy->deep-daze) (0.2.5)\n",
            "Collecting pytorch-ranger>=0.1.1\n",
            "  Downloading pytorch_ranger-0.1.1-py3-none-any.whl (14 kB)\n",
            "Building wheels for collected packages: fire, ftfy\n",
            "  Building wheel for fire (setup.py) ... \u001b[?25l\u001b[?25hdone\n",
            "  Created wheel for fire: filename=fire-0.4.0-py2.py3-none-any.whl size=115943 sha256=39ed4f4281d0f867373b80c3ba17dcc8cbb76b20d5fc76a3e9355354b18bae6f\n",
            "  Stored in directory: /root/.cache/pip/wheels/8a/67/fb/2e8a12fa16661b9d5af1f654bd199366799740a85c64981226\n",
            "  Building wheel for ftfy (setup.py) ... \u001b[?25l\u001b[?25hdone\n",
            "  Created wheel for ftfy: filename=ftfy-6.0.3-py3-none-any.whl size=41933 sha256=b473dea1ca4db253072f405aa5b2fb7fb1a5a3e7baaf0b142f63190f4ae439f0\n",
            "  Stored in directory: /root/.cache/pip/wheels/19/f5/38/273eb3b5e76dfd850619312f693716ac4518b498f5ffb6f56d\n",
            "Successfully built fire ftfy\n",
            "Installing collected packages: pytorch-ranger, einops, torch-optimizer, siren-pytorch, imageio, ftfy, fire, deep-daze\n",
            "  Attempting uninstall: imageio\n",
            "    Found existing installation: imageio 2.4.1\n",
            "    Uninstalling imageio-2.4.1:\n",
            "      Successfully uninstalled imageio-2.4.1\n",
            "\u001b[31mERROR: pip's dependency resolver does not currently take into account all the packages that are installed. This behaviour is the source of the following dependency conflicts.\n",
            "albumentations 0.1.12 requires imgaug<0.2.7,>=0.2.5, but you have imgaug 0.2.9 which is incompatible.\u001b[0m\n",
            "Successfully installed deep-daze-0.10.2 einops-0.3.2 fire-0.4.0 ftfy-6.0.3 imageio-2.9.0 pytorch-ranger-0.1.1 siren-pytorch-0.1.5 torch-optimizer-0.1.0\n"
          ]
        }
      ]
    },
    {
      "cell_type": "code",
      "metadata": {
        "colab": {
          "base_uri": "https://localhost:8080/"
        },
        "id": "FAnu6ck6fcmi",
        "outputId": "dfb3462f-92c6-4b85-a502-cbdb743e7e78"
      },
      "source": [
        "!wget http://www.blakearchive.org/images/bb85.a.6.ps.100.jpg -O image.jpg"
      ],
      "execution_count": null,
      "outputs": [
        {
          "output_type": "stream",
          "name": "stdout",
          "text": [
            "--2021-09-14 14:15:07--  http://www.blakearchive.org/images/bb85.a.6.ps.100.jpg\n",
            "Resolving www.blakearchive.org (www.blakearchive.org)... 152.2.176.78\n",
            "Connecting to www.blakearchive.org (www.blakearchive.org)|152.2.176.78|:80... connected.\n",
            "HTTP request sent, awaiting response... 200 OK\n",
            "Length: 128890 (126K) [image/jpeg]\n",
            "Saving to: ‘image.jpg’\n",
            "\n",
            "image.jpg           100%[===================>] 125.87K   711KB/s    in 0.2s    \n",
            "\n",
            "2021-09-14 14:15:09 (711 KB/s) - ‘image.jpg’ saved [128890/128890]\n",
            "\n"
          ]
        }
      ]
    },
    {
      "cell_type": "markdown",
      "metadata": {
        "id": "76t3bxERrtpI"
      },
      "source": [
        "# Put your own text here"
      ]
    },
    {
      "cell_type": "code",
      "metadata": {
        "id": "76tEtFwVrAgD"
      },
      "source": [
        "text = \"Hello, World!\""
      ],
      "execution_count": null,
      "outputs": []
    },
    {
      "cell_type": "code",
      "metadata": {
        "id": "fdmoAKJkrN1c"
      },
      "source": [
        "text = text.replace(' ','\\ ')"
      ],
      "execution_count": null,
      "outputs": []
    },
    {
      "cell_type": "markdown",
      "metadata": {
        "id": "u4JNjuemq4eB"
      },
      "source": [
        "# Train"
      ]
    },
    {
      "cell_type": "code",
      "metadata": {
        "id": "JA9pDgmuqADN"
      },
      "source": [
        "!imagine $text --start_image_path image.jpg"
      ],
      "execution_count": null,
      "outputs": []
    },
    {
      "cell_type": "markdown",
      "metadata": {
        "id": "xpQMxikJp9u-"
      },
      "source": [
        "# Deprecated"
      ]
    },
    {
      "cell_type": "code",
      "metadata": {
        "id": "6IPQ_rdA2Sa7"
      },
      "source": [
        "# from tqdm.notebook import trange\n",
        "# from IPython.display import Image, display\n",
        "\n",
        "# from deep_daze import Imagine\n",
        "\n",
        "# TEXT = 'an apple next to a fireplace' #@param {type:\"string\"}\n",
        "# NUM_LAYERS = 32 #@param {type:\"number\"}\n",
        "# SAVE_EVERY =  20#@param {type:\"number\"}\n",
        "# IMAGE_WIDTH = 512 #@param {type:\"number\"}\n",
        "# SAVE_PROGRESS = True #@param {type:\"boolean\"}\n",
        "# LEARNING_RATE = 1e-5 #@param {type:\"number\"}\n",
        "# ITERATIONS = 1050 #@param {type:\"number\"}\n",
        "\n",
        "# model = Imagine(\n",
        "#     text = TEXT,\n",
        "#     num_layers = NUM_LAYERS,\n",
        "#     save_every = SAVE_EVERY,\n",
        "#     image_width = IMAGE_WIDTH,\n",
        "#     lr = LEARNING_RATE,\n",
        "#     iterations = ITERATIONS,\n",
        "#     save_progress = SAVE_PROGRESS,\n",
        "#     start_image_path = 'image.jpg',\n",
        "# )\n",
        "\n",
        "# for epoch in trange(20, desc = 'epochs'):\n",
        "#     for i in trange(ITERATIONS, desc = 'iteration'):\n",
        "#         model.train_step(epoch, i)\n",
        "\n",
        "#         if i % model.save_every != 0:\n",
        "#             continue\n",
        "\n",
        "#         filename = TEXT.replace(' ', '_')\n",
        "#         image = Image(f'./{filename}.jpg')\n",
        "#         display(image)"
      ],
      "execution_count": null,
      "outputs": []
    },
    {
      "cell_type": "code",
      "metadata": {
        "id": "sZqOThWlmM_D"
      },
      "source": [
        ""
      ],
      "execution_count": null,
      "outputs": []
    }
  ]
}